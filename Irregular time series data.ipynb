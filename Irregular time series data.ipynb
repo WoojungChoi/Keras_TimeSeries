{
 "cells": [
  {
   "cell_type": "code",
   "execution_count": null,
   "metadata": {},
   "outputs": [],
   "source": []
  },
  {
   "cell_type": "code",
   "execution_count": 11,
   "metadata": {},
   "outputs": [],
   "source": [
    "from tensorflow import keras\n",
    "from tensorflow.keras.models import Sequential\n",
    "from tensorflow.keras import layers\n",
    "from tensorflow.keras.layers import SimpleRNN, LSTM\n",
    "from tensorflow.keras.optimizers import RMSprop, Adam\n",
    "import tensorflow as tf\n",
    "import datetime\n",
    "import pandas as pd\n",
    "import seaborn as sns\n",
    "import numpy as np\n",
    "from matplotlib import pyplot as plt\n",
    "from matplotlib import rcParams\n",
    "import matplotlib as mpl\n",
    "import time\n",
    "import csv\n",
    "from collections import OrderedDict\n",
    "%matplotlib inline\n",
    "\n",
    "sns.set()\n",
    "rcParams['figure.figsize'] = 20, 10\n",
    "rcParams['path.simplify_threshold'] = 1.0"
   ]
  },
  {
   "cell_type": "markdown",
   "metadata": {},
   "source": [
    "### Tensorflow 버전 확인"
   ]
  },
  {
   "cell_type": "code",
   "execution_count": 12,
   "metadata": {},
   "outputs": [
    {
     "name": "stdout",
     "output_type": "stream",
     "text": [
      "2.1.0\n",
      "[name: \"/device:CPU:0\"\n",
      "device_type: \"CPU\"\n",
      "memory_limit: 268435456\n",
      "locality {\n",
      "}\n",
      "incarnation: 12069479427065463358\n",
      "]\n"
     ]
    }
   ],
   "source": [
    "print(tf.__version__)\n",
    "\n",
    "from tensorflow.python.client import device_lib\n",
    "print(device_lib.list_local_devices())"
   ]
  },
  {
   "cell_type": "markdown",
   "metadata": {},
   "source": [
    "### 데이터 로드 및 전처리"
   ]
  },
  {
   "cell_type": "code",
   "execution_count": 27,
   "metadata": {},
   "outputs": [],
   "source": [
    "dataset = pd.read_csv('example.csv', sep=',')"
   ]
  },
  {
   "cell_type": "code",
   "execution_count": 28,
   "metadata": {},
   "outputs": [
    {
     "data": {
      "text/html": [
       "<div>\n",
       "<style scoped>\n",
       "    .dataframe tbody tr th:only-of-type {\n",
       "        vertical-align: middle;\n",
       "    }\n",
       "\n",
       "    .dataframe tbody tr th {\n",
       "        vertical-align: top;\n",
       "    }\n",
       "\n",
       "    .dataframe thead th {\n",
       "        text-align: right;\n",
       "    }\n",
       "</style>\n",
       "<table border=\"1\" class=\"dataframe\">\n",
       "  <thead>\n",
       "    <tr style=\"text-align: right;\">\n",
       "      <th></th>\n",
       "      <th>BATTERY_VOLTAGE</th>\n",
       "      <th>datetime</th>\n",
       "    </tr>\n",
       "  </thead>\n",
       "  <tbody>\n",
       "    <tr>\n",
       "      <th>0</th>\n",
       "      <td>286</td>\n",
       "      <td>2020-06-15 00:24:04</td>\n",
       "    </tr>\n",
       "    <tr>\n",
       "      <th>1</th>\n",
       "      <td>286</td>\n",
       "      <td>2020-06-15 00:24:05</td>\n",
       "    </tr>\n",
       "    <tr>\n",
       "      <th>2</th>\n",
       "      <td>286</td>\n",
       "      <td>2020-06-15 00:24:06</td>\n",
       "    </tr>\n",
       "    <tr>\n",
       "      <th>3</th>\n",
       "      <td>282</td>\n",
       "      <td>2020-06-15 00:24:07</td>\n",
       "    </tr>\n",
       "    <tr>\n",
       "      <th>4</th>\n",
       "      <td>282</td>\n",
       "      <td>2020-06-15 00:24:08</td>\n",
       "    </tr>\n",
       "  </tbody>\n",
       "</table>\n",
       "</div>"
      ],
      "text/plain": [
       "   BATTERY_VOLTAGE            datetime\n",
       "0              286 2020-06-15 00:24:04\n",
       "1              286 2020-06-15 00:24:05\n",
       "2              286 2020-06-15 00:24:06\n",
       "3              282 2020-06-15 00:24:07\n",
       "4              282 2020-06-15 00:24:08"
      ]
     },
     "execution_count": 28,
     "metadata": {},
     "output_type": "execute_result"
    }
   ],
   "source": [
    "dataset['datetime'] = pd.to_datetime(dataset['RECORD_TIME'], format = \"%Y-%m-%d %H:%M:%S+00:00\")\n",
    "dataset = dataset[['BATTERY_VOLTAGE', 'datetime']]\n",
    "dataset.head()"
   ]
  },
  {
   "cell_type": "code",
   "execution_count": 29,
   "metadata": {},
   "outputs": [
    {
     "data": {
      "text/plain": [
       "dict_keys(['BATTERY_VOLTAGE', 'datetime'])"
      ]
     },
     "execution_count": 29,
     "metadata": {},
     "output_type": "execute_result"
    }
   ],
   "source": [
    "resultdict = dataset.to_dict('series')\n",
    "resultdict.keys()"
   ]
  },
  {
   "cell_type": "markdown",
   "metadata": {},
   "source": [
    "# [MAIN] 시간차 데이터셋 생성\n",
    "    두 데이터 사이의 시간차를 계산함"
   ]
  },
  {
   "cell_type": "code",
   "execution_count": 31,
   "metadata": {},
   "outputs": [],
   "source": [
    "sdate = {0:0}\n",
    "for time in range(len(resultdict['datetime'])-1):\n",
    "    sdate[time] = (resultdict['datetime'][time+1] - resultdict['datetime'][time+1]).total_seconds()\n",
    "\n",
    "resultdict['subdate'] = pd.Series(sdate)"
   ]
  },
  {
   "cell_type": "markdown",
   "metadata": {},
   "source": [
    "### 데이터셋 생성을 위한 변수"
   ]
  },
  {
   "cell_type": "code",
   "execution_count": 34,
   "metadata": {},
   "outputs": [],
   "source": [
    "x_dataset = []\n",
    "y_dataset = []\n",
    "dateset = []"
   ]
  },
  {
   "cell_type": "markdown",
   "metadata": {},
   "source": [
    "### LSTM 모델 변수 설정\n",
    "\n",
    "    lookback: 입력으로 사용하기 위해 거슬러 올라갈 타임스텝(학습 시 데이터 갯수)\n",
    "    delay: 타깃으로 사용할 미래의 타임스텝\n",
    "    batch_size: 배치 샘플 수 \n",
    "    step: 데이터를 샘플링할 타임스템 간격"
   ]
  },
  {
   "cell_type": "code",
   "execution_count": 35,
   "metadata": {},
   "outputs": [],
   "source": [
    "lookback = 60\n",
    "delay = 30\n",
    "batch_size = 100\n",
    "step = 1"
   ]
  },
  {
   "cell_type": "markdown",
   "metadata": {},
   "source": [
    "# [MAIN] 데이터셋 생성 코드\n",
    "    끊긴부분을 넘어가며 데이터셋을 생성함. 데이터가 끊겼을 시 다음 데이터셋 부분으로 넘어감."
   ]
  },
  {
   "cell_type": "code",
   "execution_count": 36,
   "metadata": {},
   "outputs": [],
   "source": [
    "loc = 0\n",
    "check=1\n",
    "while loc < len(resultdict['BATTERY_VOLTAGE']) - (lookback+delay+1):\n",
    "    #데이터 연속성 검사 - 뒤에서부터 iter를 돌리며 끊긴 지점이 있을 시 해당 죄표로 loc를 이동\n",
    "    #cut = 새로 시작될 위치, check = 완성 여부\n",
    "    check=1\n",
    "    for cut in range(lookback+delay):\n",
    "        new_loc = loc + (lookback+delay) - cut\n",
    "        if(resultdict['subdate'][new_loc]>1):\n",
    "            loc = new_loc\n",
    "            check=0\n",
    "            break\n",
    "    if check==1:\n",
    "        x_dataset.append(resultdict['BATTERY_VOLTAGE'][loc:loc+30].tolist())\n",
    "        y_dataset.append(resultdict['BATTERY_VOLTAGE'][loc+60])\n",
    "        dateset.append(loc)\n",
    "        loc+=1"
   ]
  },
  {
   "cell_type": "code",
   "execution_count": 38,
   "metadata": {},
   "outputs": [
    {
     "name": "stdout",
     "output_type": "stream",
     "text": [
      "26618 / 26709 데이터 생성\n"
     ]
    }
   ],
   "source": [
    "print(len(y_dataset), '/', len(dataset), '데이터 생성')"
   ]
  },
  {
   "cell_type": "markdown",
   "metadata": {},
   "source": [
    "### 데이터 형태 변환"
   ]
  },
  {
   "cell_type": "code",
   "execution_count": 39,
   "metadata": {},
   "outputs": [],
   "source": [
    "x_dataset = np.array(x_dataset)\n",
    "y_dataset = np.array(y_dataset)"
   ]
  },
  {
   "cell_type": "code",
   "execution_count": 40,
   "metadata": {},
   "outputs": [
    {
     "name": "stdout",
     "output_type": "stream",
     "text": [
      "x_shape: (26618, 30)\n",
      "y_shape: (26618,)\n"
     ]
    }
   ],
   "source": [
    "print('x_shape:', x_dataset.shape)\n",
    "print('y_shape:', y_dataset.shape)"
   ]
  },
  {
   "cell_type": "markdown",
   "metadata": {},
   "source": [
    "### 데이터 분할"
   ]
  },
  {
   "cell_type": "code",
   "execution_count": 46,
   "metadata": {},
   "outputs": [],
   "source": [
    "n = 10000\n",
    "\n",
    "train_x_dataset = x_dataset[0:n,:]\n",
    "train_y_dataset = y_dataset[0:n,]\n",
    "\n",
    "test_x_dataset = x_dataset[n:-1,:]\n",
    "test_y_dataset = y_dataset[n:-1,]"
   ]
  },
  {
   "cell_type": "code",
   "execution_count": 47,
   "metadata": {},
   "outputs": [],
   "source": [
    "train_x_dataset = train_x_dataset.reshape((train_x_dataset.shape[0], train_x_dataset.shape[1], 1))\n",
    "test_x_dataset = test_x_dataset.reshape((test_x_dataset.shape[0], test_x_dataset.shape[1], 1))"
   ]
  },
  {
   "cell_type": "markdown",
   "metadata": {},
   "source": [
    "### 네트워크 구성\n",
    "    사용자의 모델에 맞게 네트워크 구성"
   ]
  },
  {
   "cell_type": "code",
   "execution_count": 48,
   "metadata": {},
   "outputs": [],
   "source": [
    "model_LSTM = Sequential()\n",
    "model_LSTM.add(LSTM(50,\n",
    "                    input_shape=(30,1),\n",
    "                    return_sequences=True,\n",
    "                    dropout=0.1,\n",
    "                    recurrent_dropout=0.5))\n",
    "model_LSTM.add(LSTM(50,\n",
    "                    dropout=0.1,\n",
    "                    return_sequences=True,\n",
    "                    recurrent_dropout=0.5))\n",
    "model_LSTM.add(LSTM(50,\n",
    "                    dropout=0.1,\n",
    "                    return_sequences=True,\n",
    "                    recurrent_dropout=0.5))\n",
    "model_LSTM.add(LSTM(50,\n",
    "                    dropout=0.1,\n",
    "                    recurrent_dropout=0.5))\n",
    "model_LSTM.add(layers.Dense(1))\n",
    "\n",
    "model_LSTM.compile(optimizer=RMSprop(), loss='mse')"
   ]
  },
  {
   "cell_type": "code",
   "execution_count": 49,
   "metadata": {},
   "outputs": [
    {
     "name": "stdout",
     "output_type": "stream",
     "text": [
      "Train on 10000 samples\n",
      "Epoch 1/2\n",
      "10000/10000 [==============================] - 39s 4ms/sample - loss: 70543.2814\n",
      "Epoch 2/2\n",
      "10000/10000 [==============================] - 30s 3ms/sample - loss: 61647.7459\n"
     ]
    }
   ],
   "source": [
    "history_LSTM = model_LSTM.fit(train_x_dataset, train_y_dataset, epochs=2, batch_size=30)"
   ]
  }
 ],
 "metadata": {
  "kernelspec": {
   "display_name": "Python 3",
   "language": "python",
   "name": "python3"
  },
  "language_info": {
   "codemirror_mode": {
    "name": "ipython",
    "version": 3
   },
   "file_extension": ".py",
   "mimetype": "text/x-python",
   "name": "python",
   "nbconvert_exporter": "python",
   "pygments_lexer": "ipython3",
   "version": "3.7.3"
  }
 },
 "nbformat": 4,
 "nbformat_minor": 2
}
