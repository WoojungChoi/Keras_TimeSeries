{
 "cells": [
  {
   "cell_type": "code",
   "execution_count": null,
   "metadata": {},
   "outputs": [],
   "source": []
  },
  {
   "cell_type": "code",
   "execution_count": null,
   "metadata": {},
   "outputs": [],
   "source": []
  },
  {
   "cell_type": "code",
   "execution_count": null,
   "metadata": {},
   "outputs": [],
   "source": [
    "from tensorflow import keras\n",
    "from tensorflow.keras.models import Sequential\n",
    "from tensorflow.keras import layers\n",
    "from tensorflow.keras.layers import SimpleRNN, LSTM\n",
    "from tensorflow.keras.optimizers import RMSprop, Adam\n",
    "import tensorflow as tf\n",
    "import datetime\n",
    "import pandas as pd\n",
    "import seaborn as sns\n",
    "import numpy as np\n",
    "from matplotlib import pyplot as plt\n",
    "from matplotlib import rcParams\n",
    "import matplotlib as mpl\n",
    "import time\n",
    "import csv\n",
    "from collections import OrderedDict\n",
    "%matplotlib inline\n",
    "\n",
    "sns.set()\n",
    "rcParams['figure.figsize'] = 20, 10\n",
    "rcParams['path.simplify_threshold'] = 1.0"
   ]
  },
  {
   "cell_type": "markdown",
   "metadata": {},
   "source": [
    "### Tensorflow 버전 확인"
   ]
  },
  {
   "cell_type": "code",
   "execution_count": 8,
   "metadata": {},
   "outputs": [
    {
     "ename": "NameError",
     "evalue": "name 'tf' is not defined",
     "output_type": "error",
     "traceback": [
      "\u001b[1;31m---------------------------------------------------------------------------\u001b[0m",
      "\u001b[1;31mNameError\u001b[0m                                 Traceback (most recent call last)",
      "\u001b[1;32m<ipython-input-8-302dfbeeaddc>\u001b[0m in \u001b[0;36m<module>\u001b[1;34m\u001b[0m\n\u001b[1;32m----> 1\u001b[1;33m \u001b[0mprint\u001b[0m\u001b[1;33m(\u001b[0m\u001b[0mtf\u001b[0m\u001b[1;33m.\u001b[0m\u001b[0m__version__\u001b[0m\u001b[1;33m)\u001b[0m\u001b[1;33m\u001b[0m\u001b[1;33m\u001b[0m\u001b[0m\n\u001b[0m\u001b[0;32m      2\u001b[0m \u001b[1;33m\u001b[0m\u001b[0m\n\u001b[0;32m      3\u001b[0m \u001b[1;32mfrom\u001b[0m \u001b[0mtensorflow\u001b[0m\u001b[1;33m.\u001b[0m\u001b[0mpython\u001b[0m\u001b[1;33m.\u001b[0m\u001b[0mclient\u001b[0m \u001b[1;32mimport\u001b[0m \u001b[0mdevice_lib\u001b[0m\u001b[1;33m\u001b[0m\u001b[1;33m\u001b[0m\u001b[0m\n\u001b[0;32m      4\u001b[0m \u001b[0mprint\u001b[0m\u001b[1;33m(\u001b[0m\u001b[0mdevice_lib\u001b[0m\u001b[1;33m.\u001b[0m\u001b[0mlist_local_devices\u001b[0m\u001b[1;33m(\u001b[0m\u001b[1;33m)\u001b[0m\u001b[1;33m)\u001b[0m\u001b[1;33m\u001b[0m\u001b[1;33m\u001b[0m\u001b[0m\n",
      "\u001b[1;31mNameError\u001b[0m: name 'tf' is not defined"
     ]
    }
   ],
   "source": [
    "print(tf.__version__)\n",
    "\n",
    "from tensorflow.python.client import device_lib\n",
    "print(device_lib.list_local_devices())"
   ]
  },
  {
   "cell_type": "markdown",
   "metadata": {},
   "source": [
    "### 데이터 로드 및 전처리"
   ]
  },
  {
   "cell_type": "code",
   "execution_count": null,
   "metadata": {},
   "outputs": [],
   "source": []
  },
  {
   "cell_type": "code",
   "execution_count": null,
   "metadata": {},
   "outputs": [],
   "source": []
  },
  {
   "cell_type": "markdown",
   "metadata": {},
   "source": [
    "### LSTM 모델 변수 설정\n",
    "\n",
    "    lookback: 입력으로 사용하기 위해 거슬러 올라갈 타임스텝(학습 시 데이터 갯수)\n",
    "    delay: 타깃으로 사용할 미래의 타임스텝\n",
    "    batch_size: 배치 샘플 수 \n",
    "    step: 데이터를 샘플링할 타임스템 간격"
   ]
  },
  {
   "cell_type": "code",
   "execution_count": null,
   "metadata": {},
   "outputs": [],
   "source": [
    "lookback = 60\n",
    "delay = 30\n",
    "batch_size = 100\n",
    "step = 1"
   ]
  },
  {
   "cell_type": "markdown",
   "metadata": {},
   "source": [
    "# [MAIN] 데이터셋 생성 코드\n",
    "    끊긴부분을 넘어가며 데이터셋을 생성함. 데이터가 끊겼을 시 다음 데이터셋 부분으로 넘어감."
   ]
  },
  {
   "cell_type": "code",
   "execution_count": null,
   "metadata": {},
   "outputs": [],
   "source": [
    "loc = 0\n",
    "check=1\n",
    "while loc < len(resultdict['BATTERY_VOLTAGE']) - (lookback+delay+1):\n",
    "    #데이터 연속성 검사 - 뒤에서부터 iter를 돌리며 끊긴 지점이 있을 시 해당 죄표로 loc를 이동\n",
    "    #cut = 새로 시작될 위치, check = 완성 여부\n",
    "    check=1\n",
    "    for cut in range(lookback+delay):\n",
    "        new_loc = loc + (lookback+delay) - cut\n",
    "        if(resultdict['subdate'][new_loc]>1):\n",
    "            loc = new_loc\n",
    "            check=0\n",
    "            break\n",
    "    if check==1:\n",
    "        x_dataset.append(resultdict['BATTERY_VOLTAGE'][loc:loc+30].tolist())\n",
    "        y_dataset.append(resultdict['BATTERY_VOLTAGE'][loc+60])\n",
    "        dateset.append(loc)\n",
    "        loc+=1"
   ]
  },
  {
   "cell_type": "code",
   "execution_count": null,
   "metadata": {},
   "outputs": [],
   "source": [
    "print(len(y_dataset), '/', len(result), '데이터 생성')"
   ]
  },
  {
   "cell_type": "markdown",
   "metadata": {},
   "source": [
    "### 데이터 형태 변환"
   ]
  },
  {
   "cell_type": "code",
   "execution_count": null,
   "metadata": {},
   "outputs": [],
   "source": [
    "x_dataset = np.array(x_dataset)\n",
    "y_dataset = np.array(y_dataset)"
   ]
  },
  {
   "cell_type": "code",
   "execution_count": null,
   "metadata": {},
   "outputs": [],
   "source": [
    "print('x_shape:', x_dataset.shape)\n",
    "print('y_shape:', y_dataset.shape)"
   ]
  },
  {
   "cell_type": "markdown",
   "metadata": {},
   "source": [
    "### 데이터 분할"
   ]
  },
  {
   "cell_type": "code",
   "execution_count": null,
   "metadata": {},
   "outputs": [],
   "source": [
    "n = 20000\n",
    "\n",
    "train_x_dataset = x_dataset[0:n,:]\n",
    "train_y_dataset = y_dataset[0:n,]\n",
    "\n",
    "test_x_dataset = x_dataset[n:-1,:]\n",
    "test_y_dataset = y_dataset[n:-1,]"
   ]
  },
  {
   "cell_type": "code",
   "execution_count": null,
   "metadata": {},
   "outputs": [],
   "source": [
    "train_x_dataset = train_x_dataset.reshape((train_x_dataset.shape[0], train_x_dataset.shape[1], 1))\n",
    "test_x_dataset = test_x_dataset.reshape((test_x_dataset.shape[0], test_x_dataset.shape[1], 1))"
   ]
  },
  {
   "cell_type": "markdown",
   "metadata": {},
   "source": [
    "### 네트워크 구성\n",
    "    사용자의 모델에 맞게 네트워크 구성"
   ]
  },
  {
   "cell_type": "code",
   "execution_count": null,
   "metadata": {},
   "outputs": [],
   "source": [
    "model_LSTM = Sequential()\n",
    "model_LSTM.add(LSTM(50,\n",
    "                    input_shape=(30,1),\n",
    "                    return_sequences=True,\n",
    "                    dropout=0.1,\n",
    "                    recurrent_dropout=0.5))\n",
    "model_LSTM.add(LSTM(50,\n",
    "                    dropout=0.1,\n",
    "                    return_sequences=True,\n",
    "                    recurrent_dropout=0.5))\n",
    "model_LSTM.add(LSTM(50,\n",
    "                    dropout=0.1,\n",
    "                    return_sequences=True,\n",
    "                    recurrent_dropout=0.5))\n",
    "model_LSTM.add(LSTM(50,\n",
    "                    dropout=0.1,\n",
    "                    recurrent_dropout=0.5))\n",
    "model_LSTM.add(layers.Dense(1))\n",
    "\n",
    "model_LSTM.compile(optimizer=RMSprop(), loss='mse')"
   ]
  },
  {
   "cell_type": "code",
   "execution_count": null,
   "metadata": {},
   "outputs": [],
   "source": [
    "history_LSTM = model_LSTM.fit(train_x_dataset, train_y_dataset, epochs=10, batch_size=30)"
   ]
  }
 ],
 "metadata": {
  "kernelspec": {
   "display_name": "Python 3",
   "language": "python",
   "name": "python3"
  },
  "language_info": {
   "codemirror_mode": {
    "name": "ipython",
    "version": 3
   },
   "file_extension": ".py",
   "mimetype": "text/x-python",
   "name": "python",
   "nbconvert_exporter": "python",
   "pygments_lexer": "ipython3",
   "version": "3.7.3"
  }
 },
 "nbformat": 4,
 "nbformat_minor": 2
}
